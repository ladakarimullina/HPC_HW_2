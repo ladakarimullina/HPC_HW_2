{
  "nbformat": 4,
  "nbformat_minor": 0,
  "metadata": {
    "colab": {
      "provenance": []
    },
    "kernelspec": {
      "name": "python3",
      "display_name": "Python 3"
    },
    "language_info": {
      "name": "python"
    }
  },
  "cells": [
    {
      "cell_type": "markdown",
      "source": [
        "# **I. Demonstrations**"
      ],
      "metadata": {
        "id": "Xr0dYUyDkzE2"
      }
    },
    {
      "cell_type": "code",
      "source": [
        "%%writefile OpenMP_Hello.c\n",
        "\n",
        "#include <omp.h>\n",
        "#include <stdio.h>\n",
        "#include <stdlib.h>\n",
        "\n",
        "int main (int argc, char *argv[])\n",
        "{\n",
        "    /* Uncomment the code below to manually set the number of threads */\n",
        "    //omp_set_dynamic(0);\n",
        "    //omp_set_num_threads(5);\n",
        "\n",
        "    int nthreads, tid;\n",
        "\n",
        "    #pragma omp parallel private(nthreads, tid)\n",
        "    {\n",
        "        tid = omp_get_thread_num();\n",
        "        printf(\"Hello World from thread = %d\\n\", tid);\n",
        "\n",
        "        if (tid == 0)\n",
        "        {\n",
        "            nthreads = omp_get_num_threads();\n",
        "            printf(\"Number of threads = %d\\n\", nthreads);\n",
        "        }\n",
        "    }\n",
        "\n",
        "    return 0;\n",
        "}"
      ],
      "metadata": {
        "colab": {
          "base_uri": "https://localhost:8080/"
        },
        "id": "Hv3q-sh1kzha",
        "outputId": "c8c8de42-b02b-454f-85ef-0da992c214ab"
      },
      "execution_count": 45,
      "outputs": [
        {
          "output_type": "stream",
          "name": "stdout",
          "text": [
            "Overwriting OpenMP_Hello.c\n"
          ]
        }
      ]
    },
    {
      "cell_type": "code",
      "source": [
        "!gcc OpenMP_Hello.c -o Hello.exe -lm -fopenmp"
      ],
      "metadata": {
        "id": "OHOPu8h8llu-"
      },
      "execution_count": 46,
      "outputs": []
    },
    {
      "cell_type": "code",
      "source": [
        "!./Hello.exe"
      ],
      "metadata": {
        "colab": {
          "base_uri": "https://localhost:8080/"
        },
        "id": "8x6ffuO3lo2q",
        "outputId": "487e69b2-79a0-40cc-8abb-8ceaa2ab1b63"
      },
      "execution_count": 47,
      "outputs": [
        {
          "output_type": "stream",
          "name": "stdout",
          "text": [
            "Hello World from thread = 1\n",
            "Hello World from thread = 0\n",
            "Number of threads = 2\n"
          ]
        }
      ]
    },
    {
      "cell_type": "code",
      "source": [
        "%%writefile OpenMP_Hello.c\n",
        "\n",
        "#include <omp.h>\n",
        "#include <stdio.h>\n",
        "#include <stdlib.h>\n",
        "\n",
        "int main (int argc, char *argv[])\n",
        "{\n",
        "    /* Uncomment the code below to manually set the number of threads */\n",
        "    omp_set_dynamic(0);\n",
        "    omp_set_num_threads(5);\n",
        "\n",
        "    int nthreads, tid;\n",
        "\n",
        "    #pragma omp parallel private(nthreads, tid)\n",
        "    {\n",
        "        tid = omp_get_thread_num();\n",
        "        printf(\"Hello World from thread = %d\\n\", tid);\n",
        "\n",
        "        if (tid == 0)\n",
        "        {\n",
        "            nthreads = omp_get_num_threads();\n",
        "            printf(\"Number of threads = %d\\n\", nthreads);\n",
        "        }\n",
        "    }\n",
        "\n",
        "    return 0;\n",
        "}"
      ],
      "metadata": {
        "colab": {
          "base_uri": "https://localhost:8080/"
        },
        "id": "NiCu9YUztvcD",
        "outputId": "7d65da89-a89d-4f82-e1b4-5d35db070846"
      },
      "execution_count": 48,
      "outputs": [
        {
          "output_type": "stream",
          "name": "stdout",
          "text": [
            "Overwriting OpenMP_Hello.c\n"
          ]
        }
      ]
    },
    {
      "cell_type": "code",
      "source": [
        "!gcc OpenMP_Hello.c -o Hello.exe -lm -fopenmp"
      ],
      "metadata": {
        "id": "yyGosSfJt082"
      },
      "execution_count": 49,
      "outputs": []
    },
    {
      "cell_type": "code",
      "source": [
        "!./Hello.exe"
      ],
      "metadata": {
        "colab": {
          "base_uri": "https://localhost:8080/"
        },
        "id": "-cW4Kictt3vL",
        "outputId": "8623ef4e-c0f0-4d78-c08b-b97bc74af1ae"
      },
      "execution_count": 50,
      "outputs": [
        {
          "output_type": "stream",
          "name": "stdout",
          "text": [
            "Hello World from thread = 4\n",
            "Hello World from thread = 0\n",
            "Number of threads = 5\n",
            "Hello World from thread = 2\n",
            "Hello World from thread = 1\n",
            "Hello World from thread = 3\n"
          ]
        }
      ]
    },
    {
      "cell_type": "code",
      "source": [
        "%%writefile OpenMP_OutMes.cpp\n",
        "\n",
        "#include <omp.h>\n",
        "#include <iostream>\n",
        "#include <stdio.h>\n",
        "\n",
        "int main(int argc, char ** argv)\n",
        "{\n",
        "    int tid;\n",
        "\n",
        "    // C++ cout always bad\n",
        "    #pragma omp parallel private(tid)\n",
        "    {\n",
        "        tid = omp_get_thread_num();\n",
        "        std::cout << \"cout \" << tid << \" hello world\" << std::endl;\n",
        "    }\n",
        "\n",
        "    // printf sometimes bad, depends on implementation\n",
        "    #pragma omp parallel private(tid)\n",
        "    {\n",
        "        tid = omp_get_thread_num();\n",
        "        printf(\"printf %d hello world\\n\", tid);\n",
        "    }\n",
        "\n",
        "    // correct way\n",
        "    #pragma omp parallel private(tid)\n",
        "    {\n",
        "        tid = omp_get_thread_num();\n",
        "\n",
        "        // force printfs to execute in sequential way\n",
        "        #pragma omp critical\n",
        "        {\n",
        "            printf(\"critical %d hello world\\n\", tid);\n",
        "            /// try to use cout instead printf here\n",
        "            // std::cout << \"cout \" << tid << \" hello world\" << std::endl;\n",
        "        }\n",
        "    }\n",
        "\n",
        "    return 0;\n",
        "}\n"
      ],
      "metadata": {
        "colab": {
          "base_uri": "https://localhost:8080/"
        },
        "id": "LWFUKrJ3qp3P",
        "outputId": "db105a7b-443b-4c15-c1e9-a3251ca4b8fe"
      },
      "execution_count": 7,
      "outputs": [
        {
          "output_type": "stream",
          "name": "stdout",
          "text": [
            "Overwriting OpenMP_OutMes.cpp\n"
          ]
        }
      ]
    },
    {
      "cell_type": "code",
      "source": [
        "!g++ OpenMP_OutMes.cpp -o OutMes.exe -lm -fopenmp"
      ],
      "metadata": {
        "id": "MHKWDvgSrCWo"
      },
      "execution_count": 8,
      "outputs": []
    },
    {
      "cell_type": "code",
      "source": [
        "!./OutMes.exe"
      ],
      "metadata": {
        "colab": {
          "base_uri": "https://localhost:8080/"
        },
        "id": "EgknANxqrD0a",
        "outputId": "a98a147a-6d7b-4595-d0bd-620c133b1cda"
      },
      "execution_count": 9,
      "outputs": [
        {
          "output_type": "stream",
          "name": "stdout",
          "text": [
            "cout 1 hello world\n",
            "cout 0 hello world\n",
            "printf 1 hello world\n",
            "printf 0 hello world\n",
            "critical 1 hello world\n",
            "critical 0 hello world\n"
          ]
        }
      ]
    },
    {
      "cell_type": "code",
      "source": [
        "%%writefile OpenMP_OutMes.cpp\n",
        "\n",
        "#include <omp.h>\n",
        "#include <iostream>\n",
        "#include <stdio.h>\n",
        "\n",
        "int main(int argc, char ** argv)\n",
        "{\n",
        "    int tid;\n",
        "\n",
        "    // C++ cout always bad\n",
        "    #pragma omp parallel private(tid)\n",
        "    {\n",
        "        tid = omp_get_thread_num();\n",
        "        std::cout << \"cout \" << tid << \" hello world\" << std::endl;\n",
        "    }\n",
        "\n",
        "    // printf sometimes bad, depends on implementation\n",
        "    #pragma omp parallel private(tid)\n",
        "    {\n",
        "        tid = omp_get_thread_num();\n",
        "        printf(\"printf %d hello world\\n\", tid);\n",
        "    }\n",
        "\n",
        "    // correct way\n",
        "    #pragma omp parallel private(tid)\n",
        "    {\n",
        "        tid = omp_get_thread_num();\n",
        "\n",
        "        // force printfs to execute in sequential way\n",
        "        #pragma omp critical\n",
        "        {\n",
        "            //printf(\"critical %d hello world\\n\", tid);\n",
        "            /// try to use cout instead printf here\n",
        "            std::cout << \"cout \" << tid << \" hello world\" << std::endl;\n",
        "        }\n",
        "    }\n",
        "\n",
        "    return 0;\n",
        "}"
      ],
      "metadata": {
        "colab": {
          "base_uri": "https://localhost:8080/"
        },
        "id": "AzJYdK1kzyn0",
        "outputId": "10bcf618-a257-4f32-97b3-f59f3c57bf2e"
      },
      "execution_count": 10,
      "outputs": [
        {
          "output_type": "stream",
          "name": "stdout",
          "text": [
            "Overwriting OpenMP_OutMes.cpp\n"
          ]
        }
      ]
    },
    {
      "cell_type": "code",
      "source": [
        "!g++ OpenMP_OutMes.cpp -o OutMes.exe -lm -fopenmp"
      ],
      "metadata": {
        "id": "iQBJk1Sv1XjX"
      },
      "execution_count": 11,
      "outputs": []
    },
    {
      "cell_type": "code",
      "source": [
        "!./OutMes.exe"
      ],
      "metadata": {
        "colab": {
          "base_uri": "https://localhost:8080/"
        },
        "id": "39VGt0X51YUR",
        "outputId": "9b576409-8b2f-4727-ced5-d33cd7e2948b"
      },
      "execution_count": 12,
      "outputs": [
        {
          "output_type": "stream",
          "name": "stdout",
          "text": [
            "cout cout 10 hello world hello world\n",
            "\n",
            "printf 1 hello world\n",
            "printf 0 hello world\n",
            "cout 1 hello world\n",
            "cout 0 hello world\n"
          ]
        }
      ]
    },
    {
      "cell_type": "code",
      "source": [
        "%%writefile OpenMP_PrivateShared.c\n",
        "\n",
        "#include <omp.h>\n",
        "#include <stdio.h>\n",
        "#include <stdlib.h>\n",
        "#include <malloc.h>\n",
        "\n",
        "/* compile with gcc -o PrivateShared -fopenmp PrivateShared.c */\n",
        "\n",
        "int main(int argc, char** argv)\n",
        "{\n",
        "    int i = 0;\n",
        "    int tid;\n",
        "    int size = 20;\n",
        "\n",
        "    int * a = (int *)calloc(size, sizeof(int));\n",
        "    int * b = (int *)calloc(size, sizeof(int));\n",
        "    int * c;\n",
        "    int * tids = (int *)calloc(size, sizeof(int));\n",
        "\n",
        "    printf(\"BEFORE\\n\");\n",
        "\n",
        "    for (i = 0; i < size; ++i)\n",
        "    {\n",
        "        a[i] = b[i] = i;\n",
        "\n",
        "        printf(\"a[%d] = %d, b[%d] = %d\\n\", i, a[i], i, b[i]);\n",
        "    }\n",
        "\n",
        "    #pragma omp parallel shared(a, b, tids) private(c, i, tid)\n",
        "    {\n",
        "        tid = omp_get_thread_num();\n",
        "\n",
        "        c = (int *)malloc(sizeof(int));\n",
        "\n",
        "        #pragma omp for\n",
        "        for (i = 0; i < size; ++i)\n",
        "        {\n",
        "            c[0] = tid * a[i];\n",
        "            a[i] = c[0];\n",
        "            b[i] += c[0];\n",
        "            tids[i] = tid;\n",
        "        }\n",
        "\n",
        "        free(c);\n",
        "    }\n",
        "\n",
        "    printf(\"AFTER\\n\");\n",
        "\n",
        "    for (i = 0; i < size; ++i)\n",
        "    {\n",
        "        printf(\"tid = %d, a[%d] = %d, b[%d] = %d\\n\", tids[i], i, a[i], i, b[i]);\n",
        "    }\n",
        "\n",
        "    free(a);\n",
        "    free(b);\n",
        "    free(tids);\n",
        "\n",
        "    return 0;\n",
        "}"
      ],
      "metadata": {
        "colab": {
          "base_uri": "https://localhost:8080/"
        },
        "id": "kNh4TXjk1srb",
        "outputId": "96a61013-54ff-4a67-d5a1-cd763056d528"
      },
      "execution_count": 13,
      "outputs": [
        {
          "output_type": "stream",
          "name": "stdout",
          "text": [
            "Overwriting OpenMP_PrivateShared.c\n"
          ]
        }
      ]
    },
    {
      "cell_type": "code",
      "source": [
        "!gcc OpenMP_PrivateShared.c -o PrivateShared.exe -lm -fopenmp"
      ],
      "metadata": {
        "id": "Dny9Pmef18WU"
      },
      "execution_count": 14,
      "outputs": []
    },
    {
      "cell_type": "code",
      "source": [
        "!./PrivateShared.exe"
      ],
      "metadata": {
        "colab": {
          "base_uri": "https://localhost:8080/"
        },
        "id": "d4Y-o9Qi19nR",
        "outputId": "838e76e4-be65-4da0-ed67-36a4f9a3967e"
      },
      "execution_count": 15,
      "outputs": [
        {
          "output_type": "stream",
          "name": "stdout",
          "text": [
            "BEFORE\n",
            "a[0] = 0, b[0] = 0\n",
            "a[1] = 1, b[1] = 1\n",
            "a[2] = 2, b[2] = 2\n",
            "a[3] = 3, b[3] = 3\n",
            "a[4] = 4, b[4] = 4\n",
            "a[5] = 5, b[5] = 5\n",
            "a[6] = 6, b[6] = 6\n",
            "a[7] = 7, b[7] = 7\n",
            "a[8] = 8, b[8] = 8\n",
            "a[9] = 9, b[9] = 9\n",
            "a[10] = 10, b[10] = 10\n",
            "a[11] = 11, b[11] = 11\n",
            "a[12] = 12, b[12] = 12\n",
            "a[13] = 13, b[13] = 13\n",
            "a[14] = 14, b[14] = 14\n",
            "a[15] = 15, b[15] = 15\n",
            "a[16] = 16, b[16] = 16\n",
            "a[17] = 17, b[17] = 17\n",
            "a[18] = 18, b[18] = 18\n",
            "a[19] = 19, b[19] = 19\n",
            "AFTER\n",
            "tid = 0, a[0] = 0, b[0] = 0\n",
            "tid = 0, a[1] = 0, b[1] = 1\n",
            "tid = 0, a[2] = 0, b[2] = 2\n",
            "tid = 0, a[3] = 0, b[3] = 3\n",
            "tid = 0, a[4] = 0, b[4] = 4\n",
            "tid = 0, a[5] = 0, b[5] = 5\n",
            "tid = 0, a[6] = 0, b[6] = 6\n",
            "tid = 0, a[7] = 0, b[7] = 7\n",
            "tid = 0, a[8] = 0, b[8] = 8\n",
            "tid = 0, a[9] = 0, b[9] = 9\n",
            "tid = 1, a[10] = 10, b[10] = 20\n",
            "tid = 1, a[11] = 11, b[11] = 22\n",
            "tid = 1, a[12] = 12, b[12] = 24\n",
            "tid = 1, a[13] = 13, b[13] = 26\n",
            "tid = 1, a[14] = 14, b[14] = 28\n",
            "tid = 1, a[15] = 15, b[15] = 30\n",
            "tid = 1, a[16] = 16, b[16] = 32\n",
            "tid = 1, a[17] = 17, b[17] = 34\n",
            "tid = 1, a[18] = 18, b[18] = 36\n",
            "tid = 1, a[19] = 19, b[19] = 38\n"
          ]
        }
      ]
    },
    {
      "cell_type": "markdown",
      "source": [
        "Commands **#pragma omp parallel shared(a, b, tids) private(c, i, tid)** and **#pragma omp for** allow to achiev parallel execution of the loop iterations with each thread having its own private variables (c, i, tid) and accessing shared variables (a, b, tids) safely"
      ],
      "metadata": {
        "id": "u4KSMUTd27Hb"
      }
    },
    {
      "cell_type": "code",
      "source": [
        "%%writefile OpenMP_ParSec.c\n",
        "\n",
        "#include <omp.h>\n",
        "#include <stdio.h>\n",
        "\n",
        "int main(int argc, char *argv[])\n",
        "{\n",
        "    const size_t N = 20;\n",
        "\n",
        "    int i;\n",
        "\n",
        "    float a[N], b[N], c[N], d[N];\n",
        "\n",
        "    #pragma omp parallel\n",
        "    {\n",
        "        #pragma omp for\n",
        "        for (i = 0; i < N; ++i)\n",
        "        {\n",
        "            a[i] = i;\n",
        "            b[i] = N - i;\n",
        "        }\n",
        "    }\n",
        "\n",
        "    #pragma omp parallel shared(a,b,c,d) private(i)\n",
        "    {\n",
        "        #pragma omp sections nowait\n",
        "        {\n",
        "            #pragma omp section\n",
        "            for (i = 0; i < N; ++i)\n",
        "            {\n",
        "                c[i] = a[i] + b[i];\n",
        "            }\n",
        "\n",
        "            #pragma omp section\n",
        "            for (i = 0; i < N; ++i)\n",
        "            {\n",
        "                d[i] = a[i] * b[i];\n",
        "            }\n",
        "        }\n",
        "    }\n",
        "\n",
        "    for (i = 0; i < N; ++i)\n",
        "    {\n",
        "        printf(\"c[%1$d] = %2$f, d[%1$d] = %3$f\\n\", i, c[i], d[i]);\n",
        "    }\n",
        "\n",
        "    return 0;\n",
        " }"
      ],
      "metadata": {
        "colab": {
          "base_uri": "https://localhost:8080/"
        },
        "id": "U_SW8FdU39jw",
        "outputId": "6959391b-42d3-4da3-c0ed-c36b0f2e5644"
      },
      "execution_count": 16,
      "outputs": [
        {
          "output_type": "stream",
          "name": "stdout",
          "text": [
            "Overwriting OpenMP_ParSec.c\n"
          ]
        }
      ]
    },
    {
      "cell_type": "code",
      "source": [
        "!gcc OpenMP_ParSec.c -o ParSec.exe -lm -fopenmp"
      ],
      "metadata": {
        "id": "192sTdaT4K_s"
      },
      "execution_count": 17,
      "outputs": []
    },
    {
      "cell_type": "code",
      "source": [
        "!./ParSec.exe"
      ],
      "metadata": {
        "colab": {
          "base_uri": "https://localhost:8080/"
        },
        "id": "A5u15nIZ4QPm",
        "outputId": "15a6348b-b33a-409e-9f68-84e3187063d6"
      },
      "execution_count": 18,
      "outputs": [
        {
          "output_type": "stream",
          "name": "stdout",
          "text": [
            "c[0] = 20.000000, d[0] = 0.000000\n",
            "c[1] = 20.000000, d[1] = 19.000000\n",
            "c[2] = 20.000000, d[2] = 36.000000\n",
            "c[3] = 20.000000, d[3] = 51.000000\n",
            "c[4] = 20.000000, d[4] = 64.000000\n",
            "c[5] = 20.000000, d[5] = 75.000000\n",
            "c[6] = 20.000000, d[6] = 84.000000\n",
            "c[7] = 20.000000, d[7] = 91.000000\n",
            "c[8] = 20.000000, d[8] = 96.000000\n",
            "c[9] = 20.000000, d[9] = 99.000000\n",
            "c[10] = 20.000000, d[10] = 100.000000\n",
            "c[11] = 20.000000, d[11] = 99.000000\n",
            "c[12] = 20.000000, d[12] = 96.000000\n",
            "c[13] = 20.000000, d[13] = 91.000000\n",
            "c[14] = 20.000000, d[14] = 84.000000\n",
            "c[15] = 20.000000, d[15] = 75.000000\n",
            "c[16] = 20.000000, d[16] = 64.000000\n",
            "c[17] = 20.000000, d[17] = 51.000000\n",
            "c[18] = 20.000000, d[18] = 36.000000\n",
            "c[19] = 20.000000, d[19] = 19.000000\n"
          ]
        }
      ]
    },
    {
      "cell_type": "markdown",
      "source": [
        "Command **#pragma omp section** directive divides the work into independent sections: one calculates elements of c-array and another - elements od d-array. Each section can be executed concurrently by different threads. Command **#pragma omp sections nowait** allows threads to proceed to execute subsequent code without waiting for other threads to finish their sections"
      ],
      "metadata": {
        "id": "Smk-JYGM5i0g"
      }
    },
    {
      "cell_type": "code",
      "source": [
        "%%writefile OpenMP_SumArray.c\n",
        "\n",
        "#include <omp.h>\n",
        "#include <stdio.h>\n",
        "#include <stdlib.h>\n",
        "\n",
        "int main(int argc, char ** argv)\n",
        "{\n",
        "    const size_t N = 10000;\n",
        "\n",
        "    int a[N];\n",
        "\n",
        "    #pragma omp parallel for\n",
        "    for (int i = 0; i < N; ++i)\n",
        "    {\n",
        "        a[i] = i;\n",
        "    }\n",
        "\n",
        "    int sum = 0;\n",
        "\n",
        "    #pragma omp parallel for reduction(+: sum)\n",
        "    for (int i = 0; i < N; ++i)\n",
        "    {\n",
        "        sum += a[i];\n",
        "    }\n",
        "\n",
        "    printf(\"sum = %d\\n\", sum);\n",
        "\n",
        "    return 0;\n",
        "}"
      ],
      "metadata": {
        "colab": {
          "base_uri": "https://localhost:8080/"
        },
        "id": "FijGy2JO9YEj",
        "outputId": "1132c13b-c58e-4126-8769-f04bce7abcb5"
      },
      "execution_count": 19,
      "outputs": [
        {
          "output_type": "stream",
          "name": "stdout",
          "text": [
            "Overwriting OpenMP_SumArray.c\n"
          ]
        }
      ]
    },
    {
      "cell_type": "code",
      "source": [
        "!gcc OpenMP_SumArray.c -o SumArray.exe -lm -fopenmp"
      ],
      "metadata": {
        "id": "7SDc39xm9nC5"
      },
      "execution_count": 20,
      "outputs": []
    },
    {
      "cell_type": "code",
      "source": [
        "!./SumArray.exe"
      ],
      "metadata": {
        "colab": {
          "base_uri": "https://localhost:8080/"
        },
        "id": "p25aO_NH9rll",
        "outputId": "be9203c5-1981-4de9-87a9-10580fa2deb0"
      },
      "execution_count": 21,
      "outputs": [
        {
          "output_type": "stream",
          "name": "stdout",
          "text": [
            "sum = 49995000\n"
          ]
        }
      ]
    },
    {
      "cell_type": "markdown",
      "source": [
        "# **II. Programs with bugs**"
      ],
      "metadata": {
        "id": "auPAT3f69_E6"
      }
    },
    {
      "cell_type": "code",
      "source": [
        "%%writefile OpenMP_BugReduction.c\n",
        "\n",
        "#include <omp.h>\n",
        "#include <stdio.h>\n",
        "#include <stdlib.h>\n",
        "\n",
        "float dotprod(float *a, float *b, size_t N)\n",
        "{\n",
        "    int tid;\n",
        "    float sum = 0.0;\n",
        "\n",
        "    #pragma omp parallel for private(tid) reduction(+:sum)\n",
        "    for (int i = 0; i < N; ++i)\n",
        "    {\n",
        "        tid = omp_get_thread_num();\n",
        "        sum += a[i] * b[i];\n",
        "        printf(\"tid = %d i = %d\\n\", tid, i);\n",
        "    }\n",
        "\n",
        "    return sum;\n",
        "}\n",
        "\n",
        "int main(int argc, char *argv[])\n",
        "{\n",
        "    const size_t N = 100;\n",
        "    float sum;\n",
        "    float a[N], b[N];\n",
        "\n",
        "    for (size_t i = 0; i < N; ++i)\n",
        "    {\n",
        "        a[i] = b[i] = (float)i;\n",
        "    }\n",
        "\n",
        "    sum = dotprod(a, b, N);\n",
        "\n",
        "    printf(\"Sum = %f\\n\", sum);\n",
        "\n",
        "    return 0;\n",
        "}\n"
      ],
      "metadata": {
        "colab": {
          "base_uri": "https://localhost:8080/"
        },
        "outputId": "b089a31f-38dc-4092-fee3-7066d7e43163",
        "id": "o9wN4Tlb-29J"
      },
      "execution_count": 22,
      "outputs": [
        {
          "output_type": "stream",
          "name": "stdout",
          "text": [
            "Overwriting OpenMP_BugReduction.c\n"
          ]
        }
      ]
    },
    {
      "cell_type": "code",
      "source": [
        "!gcc OpenMP_BugReduction.c -o BugReduction.exe -lm -fopenmp"
      ],
      "metadata": {
        "id": "TOLaonB7-7TA"
      },
      "execution_count": 23,
      "outputs": []
    },
    {
      "cell_type": "code",
      "source": [
        "!./BugReduction.exe"
      ],
      "metadata": {
        "colab": {
          "base_uri": "https://localhost:8080/"
        },
        "outputId": "fde12b4e-9df2-40c8-bf34-b5f971bc7673",
        "id": "XsOC_Q93--0N"
      },
      "execution_count": 24,
      "outputs": [
        {
          "output_type": "stream",
          "name": "stdout",
          "text": [
            "tid = 0 i = 0\n",
            "tid = 0 i = 1\n",
            "tid = 0 i = 2\n",
            "tid = 0 i = 3\n",
            "tid = 0 i = 4\n",
            "tid = 0 i = 5\n",
            "tid = 0 i = 6\n",
            "tid = 0 i = 7\n",
            "tid = 0 i = 8\n",
            "tid = 0 i = 9\n",
            "tid = 0 i = 10\n",
            "tid = 0 i = 11\n",
            "tid = 0 i = 12\n",
            "tid = 0 i = 13\n",
            "tid = 0 i = 14\n",
            "tid = 0 i = 15\n",
            "tid = 0 i = 16\n",
            "tid = 0 i = 17\n",
            "tid = 0 i = 18\n",
            "tid = 0 i = 19\n",
            "tid = 0 i = 20\n",
            "tid = 0 i = 21\n",
            "tid = 0 i = 22\n",
            "tid = 0 i = 23\n",
            "tid = 0 i = 24\n",
            "tid = 0 i = 25\n",
            "tid = 0 i = 26\n",
            "tid = 0 i = 27\n",
            "tid = 0 i = 28\n",
            "tid = 0 i = 29\n",
            "tid = 0 i = 30\n",
            "tid = 0 i = 31\n",
            "tid = 0 i = 32\n",
            "tid = 0 i = 33\n",
            "tid = 0 i = 34\n",
            "tid = 0 i = 35\n",
            "tid = 0 i = 36\n",
            "tid = 0 i = 37\n",
            "tid = 0 i = 38\n",
            "tid = 0 i = 39\n",
            "tid = 0 i = 40\n",
            "tid = 0 i = 41\n",
            "tid = 0 i = 42\n",
            "tid = 0 i = 43\n",
            "tid = 0 i = 44\n",
            "tid = 0 i = 45\n",
            "tid = 0 i = 46\n",
            "tid = 0 i = 47\n",
            "tid = 0 i = 48\n",
            "tid = 0 i = 49\n",
            "tid = 1 i = 50\n",
            "tid = 1 i = 51\n",
            "tid = 1 i = 52\n",
            "tid = 1 i = 53\n",
            "tid = 1 i = 54\n",
            "tid = 1 i = 55\n",
            "tid = 1 i = 56\n",
            "tid = 1 i = 57\n",
            "tid = 1 i = 58\n",
            "tid = 1 i = 59\n",
            "tid = 1 i = 60\n",
            "tid = 1 i = 61\n",
            "tid = 1 i = 62\n",
            "tid = 1 i = 63\n",
            "tid = 1 i = 64\n",
            "tid = 1 i = 65\n",
            "tid = 1 i = 66\n",
            "tid = 1 i = 67\n",
            "tid = 1 i = 68\n",
            "tid = 1 i = 69\n",
            "tid = 1 i = 70\n",
            "tid = 1 i = 71\n",
            "tid = 1 i = 72\n",
            "tid = 1 i = 73\n",
            "tid = 1 i = 74\n",
            "tid = 1 i = 75\n",
            "tid = 1 i = 76\n",
            "tid = 1 i = 77\n",
            "tid = 1 i = 78\n",
            "tid = 1 i = 79\n",
            "tid = 1 i = 80\n",
            "tid = 1 i = 81\n",
            "tid = 1 i = 82\n",
            "tid = 1 i = 83\n",
            "tid = 1 i = 84\n",
            "tid = 1 i = 85\n",
            "tid = 1 i = 86\n",
            "tid = 1 i = 87\n",
            "tid = 1 i = 88\n",
            "tid = 1 i = 89\n",
            "tid = 1 i = 90\n",
            "tid = 1 i = 91\n",
            "tid = 1 i = 92\n",
            "tid = 1 i = 93\n",
            "tid = 1 i = 94\n",
            "tid = 1 i = 95\n",
            "tid = 1 i = 96\n",
            "tid = 1 i = 97\n",
            "tid = 1 i = 98\n",
            "tid = 1 i = 99\n",
            "Sum = 328350.000000\n"
          ]
        }
      ]
    },
    {
      "cell_type": "code",
      "source": [
        "%%writefile OpenMP_BugParFor.c\n",
        "\n",
        "#include <omp.h>\n",
        "#include <stdio.h>\n",
        "#include <stdlib.h>\n",
        "\n",
        "\n",
        "\n",
        "\n",
        "int main (int argc, char *argv[])\n",
        "{\n",
        "    const size_t N = 100;\n",
        "    const size_t chunk = 3;\n",
        "\n",
        "    int i, tid;\n",
        "    float a[N], b[N], c[N];\n",
        "\n",
        "    for (i = 0; i < N; ++i)\n",
        "    {\n",
        "        a[i] = b[i] = (float)i;\n",
        "    }\n",
        "    #pragma omp parallel shared(a,b,c,chunk) private(i, tid)\n",
        "    {\n",
        "\n",
        "        tid = omp_get_thread_num();\n",
        "        #pragma omp for schedule(dynamic,chunk) nowait\n",
        "        for (i = 0; i < N; ++i)\n",
        "        {\n",
        "            c[i] = a[i] + b[i];\n",
        "            printf(\"tid = %d, c[%d] = %f\\n\", tid, i, c[i]);\n",
        "        }\n",
        "    }\n",
        "\n",
        "    return 0;\n",
        "}\n",
        "\n"
      ],
      "metadata": {
        "colab": {
          "base_uri": "https://localhost:8080/"
        },
        "outputId": "ebfd2940-9150-4512-8035-29a197608bdd",
        "id": "z3bqNpnm_a0i"
      },
      "execution_count": 25,
      "outputs": [
        {
          "output_type": "stream",
          "name": "stdout",
          "text": [
            "Overwriting OpenMP_BugParFor.c\n"
          ]
        }
      ]
    },
    {
      "cell_type": "code",
      "source": [
        "!gcc OpenMP_BugParFor.c -o BugParFor.exe -lm -fopenmp"
      ],
      "metadata": {
        "id": "Qw5L6nTc_f_n"
      },
      "execution_count": 26,
      "outputs": []
    },
    {
      "cell_type": "code",
      "source": [
        "!./BugParFor.exe"
      ],
      "metadata": {
        "colab": {
          "base_uri": "https://localhost:8080/"
        },
        "outputId": "a261691f-d964-4310-e1c9-dcecf1d50dc8",
        "id": "wpUWSr43_022"
      },
      "execution_count": 27,
      "outputs": [
        {
          "output_type": "stream",
          "name": "stdout",
          "text": [
            "tid = 1, c[0] = 0.000000\n",
            "tid = 1, c[1] = 2.000000\n",
            "tid = 1, c[2] = 4.000000\n",
            "tid = 1, c[3] = 6.000000\n",
            "tid = 1, c[4] = 8.000000\n",
            "tid = 1, c[5] = 10.000000\n",
            "tid = 1, c[6] = 12.000000\n",
            "tid = 1, c[7] = 14.000000\n",
            "tid = 1, c[8] = 16.000000\n",
            "tid = 1, c[9] = 18.000000\n",
            "tid = 1, c[10] = 20.000000\n",
            "tid = 1, c[11] = 22.000000\n",
            "tid = 1, c[12] = 24.000000\n",
            "tid = 1, c[13] = 26.000000\n",
            "tid = 1, c[14] = 28.000000\n",
            "tid = 1, c[15] = 30.000000\n",
            "tid = 1, c[16] = 32.000000\n",
            "tid = 1, c[17] = 34.000000\n",
            "tid = 1, c[18] = 36.000000\n",
            "tid = 1, c[19] = 38.000000\n",
            "tid = 1, c[20] = 40.000000\n",
            "tid = 1, c[21] = 42.000000\n",
            "tid = 1, c[22] = 44.000000\n",
            "tid = 1, c[23] = 46.000000\n",
            "tid = 1, c[24] = 48.000000\n",
            "tid = 1, c[25] = 50.000000\n",
            "tid = 1, c[26] = 52.000000\n",
            "tid = 1, c[27] = 54.000000\n",
            "tid = 1, c[28] = 56.000000\n",
            "tid = 1, c[29] = 58.000000\n",
            "tid = 1, c[30] = 60.000000\n",
            "tid = 1, c[31] = 62.000000\n",
            "tid = 1, c[32] = 64.000000\n",
            "tid = 1, c[33] = 66.000000\n",
            "tid = 1, c[34] = 68.000000\n",
            "tid = 1, c[35] = 70.000000\n",
            "tid = 1, c[36] = 72.000000\n",
            "tid = 1, c[37] = 74.000000\n",
            "tid = 1, c[38] = 76.000000\n",
            "tid = 1, c[39] = 78.000000\n",
            "tid = 1, c[40] = 80.000000\n",
            "tid = 1, c[41] = 82.000000\n",
            "tid = 1, c[42] = 84.000000\n",
            "tid = 1, c[43] = 86.000000\n",
            "tid = 1, c[44] = 88.000000\n",
            "tid = 1, c[45] = 90.000000\n",
            "tid = 1, c[46] = 92.000000\n",
            "tid = 1, c[47] = 94.000000\n",
            "tid = 1, c[48] = 96.000000\n",
            "tid = 1, c[49] = 98.000000\n",
            "tid = 1, c[50] = 100.000000\n",
            "tid = 1, c[51] = 102.000000\n",
            "tid = 1, c[52] = 104.000000\n",
            "tid = 1, c[53] = 106.000000\n",
            "tid = 1, c[54] = 108.000000\n",
            "tid = 1, c[55] = 110.000000\n",
            "tid = 1, c[56] = 112.000000\n",
            "tid = 1, c[57] = 114.000000\n",
            "tid = 1, c[58] = 116.000000\n",
            "tid = 1, c[59] = 118.000000\n",
            "tid = 1, c[60] = 120.000000\n",
            "tid = 1, c[61] = 122.000000\n",
            "tid = 1, c[62] = 124.000000\n",
            "tid = 1, c[63] = 126.000000\n",
            "tid = 1, c[64] = 128.000000\n",
            "tid = 1, c[65] = 130.000000\n",
            "tid = 1, c[66] = 132.000000\n",
            "tid = 1, c[67] = 134.000000\n",
            "tid = 1, c[68] = 136.000000\n",
            "tid = 1, c[69] = 138.000000\n",
            "tid = 1, c[70] = 140.000000\n",
            "tid = 1, c[71] = 142.000000\n",
            "tid = 1, c[72] = 144.000000\n",
            "tid = 1, c[73] = 146.000000\n",
            "tid = 1, c[74] = 148.000000\n",
            "tid = 1, c[75] = 150.000000\n",
            "tid = 1, c[76] = 152.000000\n",
            "tid = 1, c[77] = 154.000000\n",
            "tid = 1, c[78] = 156.000000\n",
            "tid = 1, c[79] = 158.000000\n",
            "tid = 1, c[80] = 160.000000\n",
            "tid = 1, c[81] = 162.000000\n",
            "tid = 1, c[82] = 164.000000\n",
            "tid = 1, c[83] = 166.000000\n",
            "tid = 1, c[84] = 168.000000\n",
            "tid = 1, c[85] = 170.000000\n",
            "tid = 1, c[86] = 172.000000\n",
            "tid = 1, c[87] = 174.000000\n",
            "tid = 1, c[88] = 176.000000\n",
            "tid = 1, c[89] = 178.000000\n",
            "tid = 1, c[90] = 180.000000\n",
            "tid = 1, c[91] = 182.000000\n",
            "tid = 1, c[92] = 184.000000\n",
            "tid = 1, c[93] = 186.000000\n",
            "tid = 1, c[94] = 188.000000\n",
            "tid = 1, c[95] = 190.000000\n",
            "tid = 1, c[96] = 192.000000\n",
            "tid = 1, c[97] = 194.000000\n",
            "tid = 1, c[98] = 196.000000\n",
            "tid = 1, c[99] = 198.000000\n"
          ]
        }
      ]
    },
    {
      "cell_type": "markdown",
      "source": [
        "# **III. Sequential programs**"
      ],
      "metadata": {
        "id": "mgP87Tv4__t3"
      }
    },
    {
      "cell_type": "code",
      "source": [
        "%%writefile OpenMP_Pi.c\n",
        "\n",
        "#include <stdio.h>\n",
        "#include <omp.h>\n",
        "\n",
        "int main()\n",
        "{\n",
        "    double start, stop;\n",
        "\n",
        "    const size_t N = 100000;\n",
        "    double step;\n",
        "\n",
        "    double x, pi, sum = 0.;\n",
        "\n",
        "    step = 1. / (double)N;\n",
        "\n",
        "    start = omp_get_wtime();\n",
        "\n",
        "    #pragma omp parallel for private(x) reduction(+:sum)\n",
        "    for (int i = 0; i < N; ++i)\n",
        "    {\n",
        "        x = (i + 0.5) * step;\n",
        "        sum += 4.0 / (1. + x * x);\n",
        "    }\n",
        "\n",
        "    pi = step * sum;\n",
        "\n",
        "    stop = omp_get_wtime();\n",
        "\n",
        "    printf(\"pi = %.16f\\n\", pi);\n",
        "    printf(\"total number of threads: %d\\n\", omp_get_max_threads());\n",
        "    printf(\"total time: %f\\n\", stop - start);\n",
        "\n",
        "    return 0;\n",
        "}\n"
      ],
      "metadata": {
        "colab": {
          "base_uri": "https://localhost:8080/"
        },
        "id": "PS0awc3GBLJm",
        "outputId": "2e710d70-5b58-4c2e-aa66-88205086d626"
      },
      "execution_count": 28,
      "outputs": [
        {
          "output_type": "stream",
          "name": "stdout",
          "text": [
            "Overwriting OpenMP_Pi.c\n"
          ]
        }
      ]
    },
    {
      "cell_type": "code",
      "source": [
        "!gcc OpenMP_Pi.c -o pi.exe -lm -fopenmp"
      ],
      "metadata": {
        "id": "-SeiFyR50raR"
      },
      "execution_count": 29,
      "outputs": []
    },
    {
      "cell_type": "code",
      "source": [
        "!./pi.exe"
      ],
      "metadata": {
        "colab": {
          "base_uri": "https://localhost:8080/"
        },
        "id": "mb6j3Ny80xUV",
        "outputId": "47fae2e6-6f78-4272-d56f-aac34739fd7a"
      },
      "execution_count": 30,
      "outputs": [
        {
          "output_type": "stream",
          "name": "stdout",
          "text": [
            "pi = 3.1415926535981464\n",
            "total number of threads: 2\n",
            "total time: 0.007687\n"
          ]
        }
      ]
    },
    {
      "cell_type": "code",
      "source": [
        "%%writefile Car.cpp\n",
        "\n",
        "#include <fstream>\n",
        "#include <iostream>\n",
        "#include <stdlib.h>\n",
        "#include <string>\n",
        "#include <thread>\n",
        "\n",
        "#include <stdio.h>\n",
        "#include <omp.h>\n",
        "\n",
        "#define RGB_COMPONENT_COLOR 255\n",
        "\n",
        "static const auto THREADS = std::thread::hardware_concurrency();\n",
        "\n",
        "struct PPMPixel {\n",
        "  int red;\n",
        "  int green;\n",
        "  int blue;\n",
        "};\n",
        "\n",
        "typedef struct {\n",
        "  int x, y, all;\n",
        "  PPMPixel *data;\n",
        "} PPMImage;\n",
        "\n",
        "void readPPM(const char *filename, PPMImage &img){\n",
        "    std::ifstream file(filename);\n",
        "    if (file) {\n",
        "        std::string s;\n",
        "        int rgb_comp_color;\n",
        "        file >> s;\n",
        "        if (s != \"P3\") {\n",
        "            std::cout << \"error in format\" << std::endl;\n",
        "            exit(9);\n",
        "        }\n",
        "        file >> img.x >> img.y;\n",
        "        file >> rgb_comp_color;\n",
        "        img.all = img.x * img.y;\n",
        "        std::cout << s << std::endl;\n",
        "        std::cout << \"x=\" << img.x << \" y=\" << img.y << \" all=\" << img.all\n",
        "                  << std::endl;\n",
        "        img.data = new PPMPixel[img.all];\n",
        "        for (int i = 0; i < img.all; i++) {\n",
        "            file >> img.data[i].red >> img.data[i].green >> img.data[i].blue;\n",
        "        }\n",
        "    } else {\n",
        "        std::cout << \"the file:\" << filename << \"was not found\" << std::endl;\n",
        "    }\n",
        "    file.close();\n",
        "}\n",
        "\n",
        "\n",
        "\n",
        "void animatePPM(PPMImage &img){\n",
        "    // Temporary storage for the last column of pixels\n",
        "    PPMPixel *temp = new PPMPixel[img.y];\n",
        "    for (int i = 0; i < img.y; ++i) {\n",
        "        // Save last column\n",
        "        temp[i] = img.data[i * img.x + (img.x - 1)];\n",
        "    }\n",
        "    #pragma omp parallel for\n",
        "    // Shifting columns to the right\n",
        "    for (int i = 0; i < img.y; ++i) {\n",
        "        for (int j = img.x - 1; j > 0; --j) {\n",
        "            img.data[i * img.x + j] = img.data[i * img.x + (j - 1)];\n",
        "        }\n",
        "    }\n",
        "    #pragma omp parallel for\n",
        "    // The last column goes the first column position\n",
        "    for (int i = 0; i < img.y; ++i) {\n",
        "        img.data[i * img.x] = temp[i];\n",
        "    }\n",
        "\n",
        "    delete[] temp;\n",
        "}\n",
        "\n",
        "\n",
        "void writePPM(const char *filename, PPMImage &img) {\n",
        "    std::ofstream file(filename, std::ofstream::out);\n",
        "    file << \"P3\" << std::endl;\n",
        "    file << img.x << \" \" << img.y << \" \" << std::endl;\n",
        "    file << RGB_COMPONENT_COLOR << std::endl;\n",
        "    for (int i = 0; i < img.all; i++) {\n",
        "        file << img.data[i].red << \" \" << img.data[i].green << \" \"\n",
        "             << img.data[i].blue << (((i + 1) % img.x == 0) ? \"\\n\" : \" \");\n",
        "    }\n",
        "    file.close();\n",
        "}\n",
        "\n",
        "int main(int argc, char *argv[]) {\n",
        "    double start, stop;\n",
        "    start = omp_get_wtime();\n",
        "    PPMImage image;\n",
        "    readPPM(\"car.ppm\", image);\n",
        "    int nframes = 30;\n",
        "    for (int frame = 0; frame<nframes; ++frame){\n",
        "      animatePPM(image);\n",
        "      std::string filename = \"new_car_\" + std::to_string(frame) + \".ppm\";\n",
        "      writePPM(filename.c_str(), image); //закомментить и раскомменить - посмотреть изменение времени\n",
        "    }\n",
        "    //writePPM(\"new_car.ppm\", image);\n",
        "    //convert -delay 20 -loop 0 new_car_*.ppm animation.gif\n",
        "    //system(\"convert -delay 20 -loop 0 new_car_*.ppm car_animation.gif\");\n",
        "    stop = omp_get_wtime();\n",
        "    printf(\"total time with command writePPM(): %f\\n \", stop - start);\n",
        "    return 0;\n",
        "}\n",
        "\n",
        "\n"
      ],
      "metadata": {
        "colab": {
          "base_uri": "https://localhost:8080/"
        },
        "id": "AN_l8PXx8CbK",
        "outputId": "fdb797d8-c74d-4329-8445-c63f739b4f2a"
      },
      "execution_count": 16,
      "outputs": [
        {
          "output_type": "stream",
          "name": "stdout",
          "text": [
            "Overwriting Car.cpp\n"
          ]
        }
      ]
    },
    {
      "cell_type": "code",
      "source": [
        "!g++ Car.cpp -o Car.exe -lm -fopenmp"
      ],
      "metadata": {
        "id": "KhkGudgC-EDx"
      },
      "execution_count": 17,
      "outputs": []
    },
    {
      "cell_type": "code",
      "source": [
        "!./Car.exe"
      ],
      "metadata": {
        "colab": {
          "base_uri": "https://localhost:8080/"
        },
        "id": "2wWwMZ6N-M7D",
        "outputId": "6607c18b-110a-48e1-acff-e7c928504d43"
      },
      "execution_count": 18,
      "outputs": [
        {
          "output_type": "stream",
          "name": "stdout",
          "text": [
            "P3\n",
            "x=303 y=166 all=50298\n",
            "total time with command writePPM(): 0.466985\n",
            " "
          ]
        }
      ]
    },
    {
      "cell_type": "code",
      "source": [
        "from PIL import Image\n",
        "img = Image.open('new_car_1.ppm')\n",
        "img"
      ],
      "metadata": {
        "colab": {
          "base_uri": "https://localhost:8080/",
          "height": 183
        },
        "outputId": "6fd3cdd6-dc53-45a6-f5d5-91a4b8ac0520",
        "id": "YtY9KWsvDpOe"
      },
      "execution_count": 19,
      "outputs": [
        {
          "output_type": "execute_result",
          "data": {
            "text/plain": [
              "<PIL.PpmImagePlugin.PpmImageFile image mode=RGB size=303x166>"
            ],
            "image/png": "[encoded data removed]"
          },
          "metadata": {},
          "execution_count": 19
        }
      ]
    },
    {
      "cell_type": "code",
      "source": [
        "from PIL import Image\n",
        "\n",
        "nframes = 30\n",
        "imgs = []\n",
        "\n",
        "for i in range(nframes):\n",
        "    imgs.append(Image.open(f'new_car_{i}.ppm'))\n",
        "\n",
        "# Save the frames as an animated GIF\n",
        "imgs[0].save('car_animation.gif',\n",
        "             save_all=True,\n",
        "             append_images=imgs[1:],\n",
        "             duration=100,  # duration between frames in milliseconds\n",
        "             loop=0)  # loop=0 means the gif will loop forever"
      ],
      "metadata": {
        "id": "iH3iqHSDDyYk"
      },
      "execution_count": 21,
      "outputs": []
    },
    {
      "cell_type": "code",
      "source": [
        "%%writefile Car_without_files.cpp\n",
        "\n",
        "#include <fstream>\n",
        "#include <iostream>\n",
        "#include <stdlib.h>\n",
        "#include <string>\n",
        "#include <thread>\n",
        "\n",
        "#include <stdio.h>\n",
        "#include <omp.h>\n",
        "\n",
        "#define RGB_COMPONENT_COLOR 255\n",
        "\n",
        "static const auto THREADS = std::thread::hardware_concurrency();\n",
        "\n",
        "struct PPMPixel {\n",
        "  int red;\n",
        "  int green;\n",
        "  int blue;\n",
        "};\n",
        "\n",
        "typedef struct {\n",
        "  int x, y, all;\n",
        "  PPMPixel *data;\n",
        "} PPMImage;\n",
        "\n",
        "void readPPM(const char *filename, PPMImage &img){\n",
        "    std::ifstream file(filename);\n",
        "    if (file) {\n",
        "        std::string s;\n",
        "        int rgb_comp_color;\n",
        "        file >> s;\n",
        "        if (s != \"P3\") {\n",
        "            std::cout << \"error in format\" << std::endl;\n",
        "            exit(9);\n",
        "        }\n",
        "        file >> img.x >> img.y;\n",
        "        file >> rgb_comp_color;\n",
        "        img.all = img.x * img.y;\n",
        "        std::cout << s << std::endl;\n",
        "        std::cout << \"x=\" << img.x << \" y=\" << img.y << \" all=\" << img.all\n",
        "                  << std::endl;\n",
        "        img.data = new PPMPixel[img.all];\n",
        "        for (int i = 0; i < img.all; i++) {\n",
        "            file >> img.data[i].red >> img.data[i].green >> img.data[i].blue;\n",
        "        }\n",
        "    } else {\n",
        "        std::cout << \"the file:\" << filename << \"was not found\" << std::endl;\n",
        "    }\n",
        "    file.close();\n",
        "}\n",
        "\n",
        "\n",
        "\n",
        "void animatePPM(PPMImage &img){\n",
        "    // Temporary storage for the last column of pixels\n",
        "    PPMPixel *temp = new PPMPixel[img.y];\n",
        "    for (int i = 0; i < img.y; ++i) {\n",
        "        // Save last column\n",
        "        temp[i] = img.data[i * img.x + (img.x - 1)];\n",
        "    }\n",
        "    #pragma omp parallel for\n",
        "    // Shifting columns to the right\n",
        "    for (int i = 0; i < img.y; ++i) {\n",
        "        for (int j = img.x - 1; j > 0; --j) {\n",
        "            img.data[i * img.x + j] = img.data[i * img.x + (j - 1)];\n",
        "        }\n",
        "    }\n",
        "    #pragma omp parallel for\n",
        "    // The last column goes the first column position\n",
        "    for (int i = 0; i < img.y; ++i) {\n",
        "        img.data[i * img.x] = temp[i];\n",
        "    }\n",
        "\n",
        "    delete[] temp;\n",
        "}\n",
        "\n",
        "void writePPM(const char *filename, PPMImage &img) {\n",
        "    std::ofstream file(filename, std::ofstream::out);\n",
        "    file << \"P3\" << std::endl;\n",
        "    file << img.x << \" \" << img.y << \" \" << std::endl;\n",
        "    file << RGB_COMPONENT_COLOR << std::endl;\n",
        "    for (int i = 0; i < img.all; i++) {\n",
        "        file << img.data[i].red << \" \" << img.data[i].green << \" \"\n",
        "             << img.data[i].blue << (((i + 1) % img.x == 0) ? \"\\n\" : \" \");\n",
        "    }\n",
        "    file.close();\n",
        "}\n",
        "\n",
        "int main(int argc, char *argv[]) {\n",
        "    double start, stop;\n",
        "    start = omp_get_wtime();\n",
        "    PPMImage image;\n",
        "    readPPM(\"car.ppm\", image);\n",
        "    int nframes = 15;\n",
        "    for (int frame = 0; frame<nframes; ++frame){\n",
        "      animatePPM(image);\n",
        "      std::string filename = \"new_car_\" + std::to_string(frame) + \".ppm\";\n",
        "    }\n",
        "    //writePPM(\"new_car.ppm\", image);\n",
        "    //convert -delay 20 -loop 0 new_car_*.ppm animation.gif\n",
        "    //system(\"convert -delay 20 -loop 0 new_car_*.ppm car_animation.gif\");\n",
        "    stop = omp_get_wtime();\n",
        "    printf(\"total time without command writePPM(): %f\\n \", stop - start);\n",
        "    return 0;\n",
        "}"
      ],
      "metadata": {
        "colab": {
          "base_uri": "https://localhost:8080/"
        },
        "id": "mza4akcekYlp",
        "outputId": "87c8846f-e8fe-468c-d7c7-66bf125f93dc"
      },
      "execution_count": 13,
      "outputs": [
        {
          "output_type": "stream",
          "name": "stdout",
          "text": [
            "Writing Car_without_files.cpp\n"
          ]
        }
      ]
    },
    {
      "cell_type": "code",
      "source": [
        "!g++ Car_without_files.cpp -o Car_without_files.exe -lm -fopenmp"
      ],
      "metadata": {
        "id": "O28de4amkf6P"
      },
      "execution_count": 14,
      "outputs": []
    },
    {
      "cell_type": "code",
      "source": [
        "!./Car_without_files.exe"
      ],
      "metadata": {
        "colab": {
          "base_uri": "https://localhost:8080/"
        },
        "id": "SqX5CPfbknKf",
        "outputId": "45071ea4-30aa-4816-89a2-374ddc9fe20b"
      },
      "execution_count": 15,
      "outputs": [
        {
          "output_type": "stream",
          "name": "stdout",
          "text": [
            "P3\n",
            "x=303 y=166 all=50298\n",
            "total time without command writePPM(): 0.017997\n",
            " "
          ]
        }
      ]
    },
    {
      "cell_type": "markdown",
      "source": [
        "# **IV. *Problems with an Asterisk**"
      ],
      "metadata": {
        "id": "G_JQcuLHEGgh"
      }
    },
    {
      "cell_type": "code",
      "source": [
        "%%writefile Axisb.cpp\n",
        "\n",
        "#include <iostream>\n",
        "#include <vector>\n",
        "#include <cmath>\n",
        "#include <omp.h>\n",
        "\n",
        "const int ITERATION_LIMIT = 1000;\n",
        "\n",
        "int main() {\n",
        "    // Initialize the matrix\n",
        "    std::vector<std::vector<double>> A = {{10., -1., 2., 0.},\n",
        "                                          {-1., 11., -1., 3.},\n",
        "                                          {2., -1., 10., -1.},\n",
        "                                          {0.0, 3., -1., 8.}};\n",
        "\n",
        "    // Initialize the RHS vector\n",
        "    std::vector<double> b = {6., 25., -11., 15.};\n",
        "\n",
        "    // Print the system\n",
        "    std::cout << \"System:\" << std::endl;\n",
        "    for (size_t i = 0; i < A.size(); ++i) {\n",
        "        std::cout << A[i][0] << \"*x1\";\n",
        "        for (size_t j = 1; j < A[i].size(); ++j) {\n",
        "            std::cout << \" + \" << A[i][j] << \"*x\" << j + 1;\n",
        "        }\n",
        "        std::cout << \" = \" << b[i] << std::endl;\n",
        "    }\n",
        "    std::cout << std::endl;\n",
        "\n",
        "    std::vector<double> x(b.size(), 0.0);\n",
        "\n",
        "    double start_time = omp_get_wtime(); // Start timing\n",
        "\n",
        "\n",
        "\n",
        "    for (int it_count = 0; it_count < ITERATION_LIMIT; ++it_count) {\n",
        "\n",
        "        std::vector<double> x_new(x.size(), 0.0);\n",
        "        bool converged = true;\n",
        "\n",
        "        #pragma omp parallel for shared(x, x_new, A, b) reduction(&&:converged)\n",
        "        for (size_t i = 0; i < A.size(); ++i) {\n",
        "\n",
        "            double s1 = 0.0, s2 = 0.0;\n",
        "            for (size_t j = 0; j < i; ++j) {\n",
        "                s1 += A[i][j] * x[j];\n",
        "            }\n",
        "            for (size_t j = i + 1; j < A[i].size(); ++j) {\n",
        "                s2 += A[i][j] * x[j];\n",
        "            }\n",
        "            x_new[i] = (b[i] - s1 - s2) / A[i][i];\n",
        "\n",
        "            // Check for convergence\n",
        "            if (std::abs(x_new[i] - x[i]) > 1e-10) {\n",
        "                converged = false;\n",
        "            }\n",
        "        }\n",
        "\n",
        "        if (converged) {\n",
        "            break;\n",
        "        }\n",
        "\n",
        "        x = x_new;\n",
        "    }\n",
        "    double end_time = omp_get_wtime(); // End timing\n",
        "\n",
        "    std::cout << \"Solution: \" << std::endl;\n",
        "    for (size_t i = 0; i < x.size(); ++i) {\n",
        "        std::cout << x[i] << \" \";\n",
        "    }\n",
        "    std::cout << std::endl;\n",
        "\n",
        "    std::cout << \"Error:\" << std::endl;\n",
        "    for (size_t i = 0; i < A.size(); ++i) {\n",
        "        double error = 0.0;\n",
        "        for (size_t j = 0; j < A[i].size(); ++j) {\n",
        "            error += A[i][j] * x[j];\n",
        "        }\n",
        "        error -= b[i];\n",
        "        std::cout << error << \" \";\n",
        "    }\n",
        "    std::cout << std::endl;\n",
        "\n",
        "    // Print elapsed time\n",
        "    std::cout << \"total time: \" << end_time - start_time << \" seconds\" << std::endl;\n",
        "\n",
        "    return 0;\n",
        "}\n"
      ],
      "metadata": {
        "colab": {
          "base_uri": "https://localhost:8080/"
        },
        "id": "J3uyOA5G_ITC",
        "outputId": "d30a3b20-39d2-45c5-d9a2-30d45bf25858"
      },
      "execution_count": 39,
      "outputs": [
        {
          "output_type": "stream",
          "name": "stdout",
          "text": [
            "Writing Axisb.cpp\n"
          ]
        }
      ]
    },
    {
      "cell_type": "code",
      "source": [
        "!g++ Axisb.cpp -o Axisb.exe -lm -fopenmp"
      ],
      "metadata": {
        "id": "SAh_cR6u_2Kv"
      },
      "execution_count": 40,
      "outputs": []
    },
    {
      "cell_type": "code",
      "source": [
        "!./Axisb.exe"
      ],
      "metadata": {
        "colab": {
          "base_uri": "https://localhost:8080/"
        },
        "id": "nNueyIinL4Zy",
        "outputId": "38a49181-a6ae-4def-c4fa-d7adc84ed27e"
      },
      "execution_count": 41,
      "outputs": [
        {
          "output_type": "stream",
          "name": "stdout",
          "text": [
            "System:\n",
            "10*x1 + -1*x2 + 2*x3 + 0*x4 = 6\n",
            "-1*x1 + 11*x2 + -1*x3 + 3*x4 = 25\n",
            "2*x1 + -1*x2 + 10*x3 + -1*x4 = -11\n",
            "0*x1 + 3*x2 + -1*x3 + 8*x4 = 15\n",
            "\n",
            "Solution: \n",
            "1 2 -1 1 \n",
            "Error:\n",
            "3.95795e-10 -7.29656e-10 5.13317e-10 -5.86034e-10 \n",
            "total time: 0.000140978 seconds\n"
          ]
        }
      ]
    },
    {
      "cell_type": "code",
      "source": [
        "%%writefile LeastSquares.cpp\n",
        "\n",
        "#include <iostream>\n",
        "#include <vector>\n",
        "#include <cmath>\n",
        "#include <omp.h>\n",
        "\n",
        "const int N = 1000;\n",
        "const double alpha = 0.001;\n",
        "\n",
        "// Function f(x,a,b)\n",
        "double f(double x, double a, double b) {\n",
        "    return a * x + b;\n",
        "}\n",
        "\n",
        "// Compute the sum of squared residuals\n",
        "/*double computeResidualSum(const std::vector<double>& x, const std::vector<double>& y, double a, double b) {\n",
        "    double sum = 0.0;\n",
        "    #pragma omp parallel for reduction(+:sum)\n",
        "    for (size_t i = 0; i < x.size(); ++i) {\n",
        "        double residual = y[i] - f(x[i], a, b);\n",
        "        sum += residual * residual;\n",
        "    }\n",
        "    return sum;\n",
        "}*/\n",
        "\n",
        "// Gradient descent to optimize parameters a and b\n",
        "void gradientDescent(const std::vector<double>& x, const std::vector<double>& y, double& a, double& b) {\n",
        "    for (int iter = 0; iter < N; ++iter) {\n",
        "        double gradient_a = 0.0;\n",
        "        double gradient_b = 0.0;\n",
        "\n",
        "        #pragma omp parallel for reduction(+:gradient_a, gradient_b)\n",
        "        for (size_t i = 0; i < x.size(); ++i) {\n",
        "            double residual = y[i] - f(x[i], a, b);\n",
        "            gradient_a += -2.0 * x[i] * residual;\n",
        "            gradient_b += -2.0 * residual;\n",
        "        }\n",
        "\n",
        "        a -= alpha * gradient_a;\n",
        "        b -= alpha * gradient_b;\n",
        "    }\n",
        "}\n",
        "\n",
        "int main() {\n",
        "\n",
        "    std::vector<double> x = {1.0, 2.0, 3.0, 4.0, 5.0};\n",
        "    std::vector<double> y;\n",
        "\n",
        "    double a = 2.0; // True parameter value for 'a'\n",
        "    double b = 3.0; // True parameter value for 'b'\n",
        "\n",
        "    for (double xi : x) {\n",
        "        y.push_back(a * xi + b + ((double)rand() / RAND_MAX - 0.5)); // Add noise\n",
        "    }\n",
        "\n",
        "    // Initial guess for parameters a and b\n",
        "    double initial_a = 1.0;\n",
        "    double initial_b = 1.0;\n",
        "\n",
        "    double start_time = omp_get_wtime(); // Start timing\n",
        "\n",
        "    // Perform gradient descent to find optimal parameters\n",
        "    gradientDescent(x, y, initial_a, initial_b);\n",
        "\n",
        "    double end_time = omp_get_wtime(); // End timing\n",
        "\n",
        "    // Output the optimized parameters\n",
        "    std::cout << \"Optimized parameters:\" << std::endl;\n",
        "    std::cout << \"a = \" << initial_a << std::endl;\n",
        "    std::cout << \"b = \" << initial_b << std::endl;\n",
        "\n",
        "    // Print elapsed time\n",
        "    std::cout << \"total time: \" << end_time - start_time << \" seconds\" << std::endl;\n",
        "\n",
        "    return 0;\n",
        "}\n"
      ],
      "metadata": {
        "colab": {
          "base_uri": "https://localhost:8080/"
        },
        "id": "05JVpoG2bucJ",
        "outputId": "c8df2a3a-e5e0-4ec1-99b3-2d7c7bcddb29"
      },
      "execution_count": 42,
      "outputs": [
        {
          "output_type": "stream",
          "name": "stdout",
          "text": [
            "Overwriting LeastSquares.cpp\n"
          ]
        }
      ]
    },
    {
      "cell_type": "code",
      "source": [
        "!g++  LeastSquares.cpp -o LeastSquares.exe -lm -fopenmp"
      ],
      "metadata": {
        "id": "3PIzulpYd69j"
      },
      "execution_count": 43,
      "outputs": []
    },
    {
      "cell_type": "code",
      "source": [
        "!./LeastSquares.exe"
      ],
      "metadata": {
        "colab": {
          "base_uri": "https://localhost:8080/"
        },
        "id": "yhwbGcxMeDVu",
        "outputId": "b10999b9-3534-4446-d9e6-ad4ced33c262"
      },
      "execution_count": 44,
      "outputs": [
        {
          "output_type": "stream",
          "name": "stdout",
          "text": [
            "Optimized parameters:\n",
            "a = 2.13947\n",
            "b = 2.7754\n",
            "total time: 0.000854246 seconds\n"
          ]
        }
      ]
    }
  ]
}